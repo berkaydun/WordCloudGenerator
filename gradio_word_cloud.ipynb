{
 "cells": [
  {
   "cell_type": "code",
   "execution_count": 1,
   "id": "db578bb3-c9cc-462a-b61a-9df1884841d1",
   "metadata": {
    "collapsed": true
   },
   "outputs": [
    {
     "name": "stdout",
     "output_type": "stream",
     "text": [
      "Requirement already satisfied: gradio in c:\\users\\berka\\anaconda3\\envs\\jupyterlab\\lib\\site-packages (4.38.1)\n",
      "Requirement already satisfied: aiofiles<24.0,>=22.0 in c:\\users\\berka\\anaconda3\\envs\\jupyterlab\\lib\\site-packages (from gradio) (22.1.0)\n",
      "Requirement already satisfied: altair<6.0,>=5.0 in c:\\users\\berka\\anaconda3\\envs\\jupyterlab\\lib\\site-packages (from gradio) (5.3.0)\n",
      "Requirement already satisfied: fastapi in c:\\users\\berka\\anaconda3\\envs\\jupyterlab\\lib\\site-packages (from gradio) (0.111.1)\n",
      "Requirement already satisfied: ffmpy in c:\\users\\berka\\anaconda3\\envs\\jupyterlab\\lib\\site-packages (from gradio) (0.3.2)\n",
      "Requirement already satisfied: gradio-client==1.1.0 in c:\\users\\berka\\anaconda3\\envs\\jupyterlab\\lib\\site-packages (from gradio) (1.1.0)\n",
      "Requirement already satisfied: httpx>=0.24.1 in c:\\users\\berka\\anaconda3\\envs\\jupyterlab\\lib\\site-packages (from gradio) (0.27.0)\n",
      "Requirement already satisfied: huggingface-hub>=0.19.3 in c:\\users\\berka\\anaconda3\\envs\\jupyterlab\\lib\\site-packages (from gradio) (0.24.0)\n",
      "Requirement already satisfied: importlib-resources<7.0,>=1.3 in c:\\users\\berka\\anaconda3\\envs\\jupyterlab\\lib\\site-packages (from gradio) (6.4.0)\n",
      "Requirement already satisfied: jinja2<4.0 in c:\\users\\berka\\anaconda3\\envs\\jupyterlab\\lib\\site-packages (from gradio) (3.1.4)\n",
      "Requirement already satisfied: markupsafe~=2.0 in c:\\users\\berka\\anaconda3\\envs\\jupyterlab\\lib\\site-packages (from gradio) (2.1.3)\n",
      "Requirement already satisfied: matplotlib~=3.0 in c:\\users\\berka\\anaconda3\\envs\\jupyterlab\\lib\\site-packages (from gradio) (3.9.1)\n",
      "Requirement already satisfied: numpy<3.0,>=1.0 in c:\\users\\berka\\anaconda3\\envs\\jupyterlab\\lib\\site-packages (from gradio) (1.26.4)\n",
      "Requirement already satisfied: orjson~=3.0 in c:\\users\\berka\\anaconda3\\envs\\jupyterlab\\lib\\site-packages (from gradio) (3.10.6)\n",
      "Requirement already satisfied: packaging in c:\\users\\berka\\anaconda3\\envs\\jupyterlab\\lib\\site-packages (from gradio) (24.1)\n",
      "Requirement already satisfied: pandas<3.0,>=1.0 in c:\\users\\berka\\anaconda3\\envs\\jupyterlab\\lib\\site-packages (from gradio) (2.2.2)\n",
      "Requirement already satisfied: pillow<11.0,>=8.0 in c:\\users\\berka\\anaconda3\\envs\\jupyterlab\\lib\\site-packages (from gradio) (10.4.0)\n",
      "Requirement already satisfied: pydantic>=2.0 in c:\\users\\berka\\anaconda3\\envs\\jupyterlab\\lib\\site-packages (from gradio) (2.8.2)\n",
      "Requirement already satisfied: pydub in c:\\users\\berka\\anaconda3\\envs\\jupyterlab\\lib\\site-packages (from gradio) (0.25.1)\n",
      "Requirement already satisfied: python-multipart>=0.0.9 in c:\\users\\berka\\anaconda3\\envs\\jupyterlab\\lib\\site-packages (from gradio) (0.0.9)\n",
      "Requirement already satisfied: pyyaml<7.0,>=5.0 in c:\\users\\berka\\anaconda3\\envs\\jupyterlab\\lib\\site-packages (from gradio) (6.0.1)\n",
      "Requirement already satisfied: ruff>=0.2.2 in c:\\users\\berka\\anaconda3\\envs\\jupyterlab\\lib\\site-packages (from gradio) (0.5.3)\n",
      "Requirement already satisfied: semantic-version~=2.0 in c:\\users\\berka\\anaconda3\\envs\\jupyterlab\\lib\\site-packages (from gradio) (2.10.0)\n",
      "Requirement already satisfied: tomlkit==0.12.0 in c:\\users\\berka\\anaconda3\\envs\\jupyterlab\\lib\\site-packages (from gradio) (0.12.0)\n",
      "Requirement already satisfied: typer<1.0,>=0.12 in c:\\users\\berka\\anaconda3\\envs\\jupyterlab\\lib\\site-packages (from gradio) (0.12.3)\n",
      "Requirement already satisfied: typing-extensions~=4.0 in c:\\users\\berka\\anaconda3\\envs\\jupyterlab\\lib\\site-packages (from gradio) (4.11.0)\n",
      "Requirement already satisfied: urllib3~=2.0 in c:\\users\\berka\\anaconda3\\envs\\jupyterlab\\lib\\site-packages (from gradio) (2.2.2)\n",
      "Requirement already satisfied: uvicorn>=0.14.0 in c:\\users\\berka\\anaconda3\\envs\\jupyterlab\\lib\\site-packages (from gradio) (0.30.3)\n",
      "Requirement already satisfied: fsspec in c:\\users\\berka\\anaconda3\\envs\\jupyterlab\\lib\\site-packages (from gradio-client==1.1.0->gradio) (2024.6.1)\n",
      "Requirement already satisfied: websockets<12.0,>=10.0 in c:\\users\\berka\\anaconda3\\envs\\jupyterlab\\lib\\site-packages (from gradio-client==1.1.0->gradio) (11.0.3)\n",
      "Requirement already satisfied: jsonschema>=3.0 in c:\\users\\berka\\anaconda3\\envs\\jupyterlab\\lib\\site-packages (from altair<6.0,>=5.0->gradio) (4.19.2)\n",
      "Requirement already satisfied: toolz in c:\\users\\berka\\anaconda3\\envs\\jupyterlab\\lib\\site-packages (from altair<6.0,>=5.0->gradio) (0.12.1)\n",
      "Requirement already satisfied: anyio in c:\\users\\berka\\anaconda3\\envs\\jupyterlab\\lib\\site-packages (from httpx>=0.24.1->gradio) (4.2.0)\n",
      "Requirement already satisfied: certifi in c:\\users\\berka\\anaconda3\\envs\\jupyterlab\\lib\\site-packages (from httpx>=0.24.1->gradio) (2024.7.4)\n",
      "Requirement already satisfied: httpcore==1.* in c:\\users\\berka\\anaconda3\\envs\\jupyterlab\\lib\\site-packages (from httpx>=0.24.1->gradio) (1.0.5)\n",
      "Requirement already satisfied: idna in c:\\users\\berka\\anaconda3\\envs\\jupyterlab\\lib\\site-packages (from httpx>=0.24.1->gradio) (3.7)\n",
      "Requirement already satisfied: sniffio in c:\\users\\berka\\anaconda3\\envs\\jupyterlab\\lib\\site-packages (from httpx>=0.24.1->gradio) (1.3.0)\n",
      "Requirement already satisfied: h11<0.15,>=0.13 in c:\\users\\berka\\anaconda3\\envs\\jupyterlab\\lib\\site-packages (from httpcore==1.*->httpx>=0.24.1->gradio) (0.14.0)\n",
      "Requirement already satisfied: filelock in c:\\users\\berka\\anaconda3\\envs\\jupyterlab\\lib\\site-packages (from huggingface-hub>=0.19.3->gradio) (3.15.4)\n",
      "Requirement already satisfied: requests in c:\\users\\berka\\anaconda3\\envs\\jupyterlab\\lib\\site-packages (from huggingface-hub>=0.19.3->gradio) (2.32.2)\n",
      "Requirement already satisfied: tqdm>=4.42.1 in c:\\users\\berka\\anaconda3\\envs\\jupyterlab\\lib\\site-packages (from huggingface-hub>=0.19.3->gradio) (4.66.4)\n",
      "Requirement already satisfied: contourpy>=1.0.1 in c:\\users\\berka\\anaconda3\\envs\\jupyterlab\\lib\\site-packages (from matplotlib~=3.0->gradio) (1.2.1)\n",
      "Requirement already satisfied: cycler>=0.10 in c:\\users\\berka\\anaconda3\\envs\\jupyterlab\\lib\\site-packages (from matplotlib~=3.0->gradio) (0.12.1)\n",
      "Requirement already satisfied: fonttools>=4.22.0 in c:\\users\\berka\\anaconda3\\envs\\jupyterlab\\lib\\site-packages (from matplotlib~=3.0->gradio) (4.53.1)\n",
      "Requirement already satisfied: kiwisolver>=1.3.1 in c:\\users\\berka\\anaconda3\\envs\\jupyterlab\\lib\\site-packages (from matplotlib~=3.0->gradio) (1.4.5)\n",
      "Requirement already satisfied: pyparsing>=2.3.1 in c:\\users\\berka\\anaconda3\\envs\\jupyterlab\\lib\\site-packages (from matplotlib~=3.0->gradio) (3.1.2)\n",
      "Requirement already satisfied: python-dateutil>=2.7 in c:\\users\\berka\\anaconda3\\envs\\jupyterlab\\lib\\site-packages (from matplotlib~=3.0->gradio) (2.9.0.post0)\n",
      "Requirement already satisfied: pytz>=2020.1 in c:\\users\\berka\\anaconda3\\envs\\jupyterlab\\lib\\site-packages (from pandas<3.0,>=1.0->gradio) (2024.1)\n",
      "Requirement already satisfied: tzdata>=2022.7 in c:\\users\\berka\\anaconda3\\envs\\jupyterlab\\lib\\site-packages (from pandas<3.0,>=1.0->gradio) (2024.1)\n",
      "Requirement already satisfied: annotated-types>=0.4.0 in c:\\users\\berka\\anaconda3\\envs\\jupyterlab\\lib\\site-packages (from pydantic>=2.0->gradio) (0.7.0)\n",
      "Requirement already satisfied: pydantic-core==2.20.1 in c:\\users\\berka\\anaconda3\\envs\\jupyterlab\\lib\\site-packages (from pydantic>=2.0->gradio) (2.20.1)\n",
      "Requirement already satisfied: click>=8.0.0 in c:\\users\\berka\\anaconda3\\envs\\jupyterlab\\lib\\site-packages (from typer<1.0,>=0.12->gradio) (8.1.7)\n",
      "Requirement already satisfied: shellingham>=1.3.0 in c:\\users\\berka\\anaconda3\\envs\\jupyterlab\\lib\\site-packages (from typer<1.0,>=0.12->gradio) (1.5.4)\n",
      "Requirement already satisfied: rich>=10.11.0 in c:\\users\\berka\\anaconda3\\envs\\jupyterlab\\lib\\site-packages (from typer<1.0,>=0.12->gradio) (13.7.1)\n",
      "Requirement already satisfied: starlette<0.38.0,>=0.37.2 in c:\\users\\berka\\anaconda3\\envs\\jupyterlab\\lib\\site-packages (from fastapi->gradio) (0.37.2)\n",
      "Requirement already satisfied: fastapi-cli>=0.0.2 in c:\\users\\berka\\anaconda3\\envs\\jupyterlab\\lib\\site-packages (from fastapi->gradio) (0.0.4)\n",
      "Requirement already satisfied: email_validator>=2.0.0 in c:\\users\\berka\\anaconda3\\envs\\jupyterlab\\lib\\site-packages (from fastapi->gradio) (2.2.0)\n",
      "Requirement already satisfied: colorama in c:\\users\\berka\\anaconda3\\envs\\jupyterlab\\lib\\site-packages (from click>=8.0.0->typer<1.0,>=0.12->gradio) (0.4.6)\n",
      "Requirement already satisfied: dnspython>=2.0.0 in c:\\users\\berka\\anaconda3\\envs\\jupyterlab\\lib\\site-packages (from email_validator>=2.0.0->fastapi->gradio) (2.6.1)\n",
      "Requirement already satisfied: attrs>=22.2.0 in c:\\users\\berka\\anaconda3\\envs\\jupyterlab\\lib\\site-packages (from jsonschema>=3.0->altair<6.0,>=5.0->gradio) (23.1.0)\n",
      "Requirement already satisfied: jsonschema-specifications>=2023.03.6 in c:\\users\\berka\\anaconda3\\envs\\jupyterlab\\lib\\site-packages (from jsonschema>=3.0->altair<6.0,>=5.0->gradio) (2023.7.1)\n",
      "Requirement already satisfied: referencing>=0.28.4 in c:\\users\\berka\\anaconda3\\envs\\jupyterlab\\lib\\site-packages (from jsonschema>=3.0->altair<6.0,>=5.0->gradio) (0.30.2)\n",
      "Requirement already satisfied: rpds-py>=0.7.1 in c:\\users\\berka\\anaconda3\\envs\\jupyterlab\\lib\\site-packages (from jsonschema>=3.0->altair<6.0,>=5.0->gradio) (0.10.6)\n",
      "Requirement already satisfied: six>=1.5 in c:\\users\\berka\\anaconda3\\envs\\jupyterlab\\lib\\site-packages (from python-dateutil>=2.7->matplotlib~=3.0->gradio) (1.16.0)\n",
      "Requirement already satisfied: markdown-it-py>=2.2.0 in c:\\users\\berka\\anaconda3\\envs\\jupyterlab\\lib\\site-packages (from rich>=10.11.0->typer<1.0,>=0.12->gradio) (3.0.0)\n",
      "Requirement already satisfied: pygments<3.0.0,>=2.13.0 in c:\\users\\berka\\anaconda3\\envs\\jupyterlab\\lib\\site-packages (from rich>=10.11.0->typer<1.0,>=0.12->gradio) (2.15.1)\n",
      "Requirement already satisfied: httptools>=0.5.0 in c:\\users\\berka\\anaconda3\\envs\\jupyterlab\\lib\\site-packages (from uvicorn[standard]>=0.12.0->fastapi->gradio) (0.6.1)\n",
      "Requirement already satisfied: python-dotenv>=0.13 in c:\\users\\berka\\anaconda3\\envs\\jupyterlab\\lib\\site-packages (from uvicorn[standard]>=0.12.0->fastapi->gradio) (1.0.1)\n",
      "Requirement already satisfied: watchfiles>=0.13 in c:\\users\\berka\\anaconda3\\envs\\jupyterlab\\lib\\site-packages (from uvicorn[standard]>=0.12.0->fastapi->gradio) (0.22.0)\n",
      "Requirement already satisfied: charset-normalizer<4,>=2 in c:\\users\\berka\\anaconda3\\envs\\jupyterlab\\lib\\site-packages (from requests->huggingface-hub>=0.19.3->gradio) (2.0.4)\n",
      "Requirement already satisfied: mdurl~=0.1 in c:\\users\\berka\\anaconda3\\envs\\jupyterlab\\lib\\site-packages (from markdown-it-py>=2.2.0->rich>=10.11.0->typer<1.0,>=0.12->gradio) (0.1.2)\n",
      "Note: you may need to restart the kernel to use updated packages.\n"
     ]
    }
   ],
   "source": [
    "#pip install gradio"
   ]
  },
  {
   "cell_type": "code",
   "execution_count": 2,
   "id": "2f83b244-7751-4572-a525-cb9582b9d722",
   "metadata": {
    "collapsed": true
   },
   "outputs": [
    {
     "name": "stdout",
     "output_type": "stream",
     "text": [
      "Requirement already satisfied: stylecloud==0.5.2 in c:\\users\\berka\\anaconda3\\envs\\jupyterlab\\lib\\site-packages (0.5.2)\n",
      "Requirement already satisfied: wordcloud in c:\\users\\berka\\anaconda3\\envs\\jupyterlab\\lib\\site-packages (from stylecloud==0.5.2) (1.9.3)\n",
      "Requirement already satisfied: icon-font-to-png in c:\\users\\berka\\anaconda3\\envs\\jupyterlab\\lib\\site-packages (from stylecloud==0.5.2) (0.4.1)\n",
      "Requirement already satisfied: palettable in c:\\users\\berka\\anaconda3\\envs\\jupyterlab\\lib\\site-packages (from stylecloud==0.5.2) (3.3.3)\n",
      "Requirement already satisfied: fire in c:\\users\\berka\\anaconda3\\envs\\jupyterlab\\lib\\site-packages (from stylecloud==0.5.2) (0.6.0)\n",
      "Requirement already satisfied: matplotlib in c:\\users\\berka\\anaconda3\\envs\\jupyterlab\\lib\\site-packages (from stylecloud==0.5.2) (3.9.1)\n",
      "Requirement already satisfied: six in c:\\users\\berka\\anaconda3\\envs\\jupyterlab\\lib\\site-packages (from fire->stylecloud==0.5.2) (1.16.0)\n",
      "Requirement already satisfied: termcolor in c:\\users\\berka\\anaconda3\\envs\\jupyterlab\\lib\\site-packages (from fire->stylecloud==0.5.2) (2.4.0)\n",
      "Requirement already satisfied: Pillow>=4.0.0 in c:\\users\\berka\\anaconda3\\envs\\jupyterlab\\lib\\site-packages (from icon-font-to-png->stylecloud==0.5.2) (10.4.0)\n",
      "Requirement already satisfied: requests>=2.12.5 in c:\\users\\berka\\anaconda3\\envs\\jupyterlab\\lib\\site-packages (from icon-font-to-png->stylecloud==0.5.2) (2.32.2)\n",
      "Requirement already satisfied: tinycss>=0.4 in c:\\users\\berka\\anaconda3\\envs\\jupyterlab\\lib\\site-packages (from icon-font-to-png->stylecloud==0.5.2) (0.4)\n",
      "Requirement already satisfied: contourpy>=1.0.1 in c:\\users\\berka\\anaconda3\\envs\\jupyterlab\\lib\\site-packages (from matplotlib->stylecloud==0.5.2) (1.2.1)\n",
      "Requirement already satisfied: cycler>=0.10 in c:\\users\\berka\\anaconda3\\envs\\jupyterlab\\lib\\site-packages (from matplotlib->stylecloud==0.5.2) (0.12.1)\n",
      "Requirement already satisfied: fonttools>=4.22.0 in c:\\users\\berka\\anaconda3\\envs\\jupyterlab\\lib\\site-packages (from matplotlib->stylecloud==0.5.2) (4.53.1)\n",
      "Requirement already satisfied: kiwisolver>=1.3.1 in c:\\users\\berka\\anaconda3\\envs\\jupyterlab\\lib\\site-packages (from matplotlib->stylecloud==0.5.2) (1.4.5)\n",
      "Requirement already satisfied: numpy>=1.23 in c:\\users\\berka\\anaconda3\\envs\\jupyterlab\\lib\\site-packages (from matplotlib->stylecloud==0.5.2) (1.26.4)\n",
      "Requirement already satisfied: packaging>=20.0 in c:\\users\\berka\\anaconda3\\envs\\jupyterlab\\lib\\site-packages (from matplotlib->stylecloud==0.5.2) (24.1)\n",
      "Requirement already satisfied: pyparsing>=2.3.1 in c:\\users\\berka\\anaconda3\\envs\\jupyterlab\\lib\\site-packages (from matplotlib->stylecloud==0.5.2) (3.1.2)\n",
      "Requirement already satisfied: python-dateutil>=2.7 in c:\\users\\berka\\anaconda3\\envs\\jupyterlab\\lib\\site-packages (from matplotlib->stylecloud==0.5.2) (2.9.0.post0)\n",
      "Requirement already satisfied: charset-normalizer<4,>=2 in c:\\users\\berka\\anaconda3\\envs\\jupyterlab\\lib\\site-packages (from requests>=2.12.5->icon-font-to-png->stylecloud==0.5.2) (2.0.4)\n",
      "Requirement already satisfied: idna<4,>=2.5 in c:\\users\\berka\\anaconda3\\envs\\jupyterlab\\lib\\site-packages (from requests>=2.12.5->icon-font-to-png->stylecloud==0.5.2) (3.7)\n",
      "Requirement already satisfied: urllib3<3,>=1.21.1 in c:\\users\\berka\\anaconda3\\envs\\jupyterlab\\lib\\site-packages (from requests>=2.12.5->icon-font-to-png->stylecloud==0.5.2) (2.2.2)\n",
      "Requirement already satisfied: certifi>=2017.4.17 in c:\\users\\berka\\anaconda3\\envs\\jupyterlab\\lib\\site-packages (from requests>=2.12.5->icon-font-to-png->stylecloud==0.5.2) (2024.7.4)\n",
      "Note: you may need to restart the kernel to use updated packages.\n"
     ]
    }
   ],
   "source": [
    "#pip install stylecloud==0.5.2"
   ]
  },
  {
   "cell_type": "code",
   "execution_count": 3,
   "id": "269fea1d-eb94-4e8c-be8d-c13d34d9944e",
   "metadata": {
    "collapsed": true
   },
   "outputs": [
    {
     "name": "stdout",
     "output_type": "stream",
     "text": [
      "Collecting Pillow==9.4.0\n",
      "  Downloading Pillow-9.4.0-cp311-cp311-win_amd64.whl.metadata (9.4 kB)\n",
      "Downloading Pillow-9.4.0-cp311-cp311-win_amd64.whl (2.5 MB)\n",
      "   ---------------------------------------- 0.0/2.5 MB ? eta -:--:--\n",
      "   ---------------------------------------- 0.0/2.5 MB ? eta -:--:--\n",
      "    --------------------------------------- 0.0/2.5 MB 393.8 kB/s eta 0:00:07\n",
      "   - -------------------------------------- 0.1/2.5 MB 901.1 kB/s eta 0:00:03\n",
      "   --- ------------------------------------ 0.2/2.5 MB 1.3 MB/s eta 0:00:02\n",
      "   ------- -------------------------------- 0.5/2.5 MB 2.0 MB/s eta 0:00:02\n",
      "   --------- ------------------------------ 0.6/2.5 MB 2.3 MB/s eta 0:00:01\n",
      "   --------- ------------------------------ 0.6/2.5 MB 1.9 MB/s eta 0:00:01\n",
      "   ------------- -------------------------- 0.8/2.5 MB 2.3 MB/s eta 0:00:01\n",
      "   ---------------- ----------------------- 1.0/2.5 MB 2.8 MB/s eta 0:00:01\n",
      "   ---------------- ----------------------- 1.0/2.5 MB 2.8 MB/s eta 0:00:01\n",
      "   -------------------- ------------------- 1.3/2.5 MB 2.6 MB/s eta 0:00:01\n",
      "   ------------------------ --------------- 1.5/2.5 MB 2.8 MB/s eta 0:00:01\n",
      "   --------------------------- ------------ 1.7/2.5 MB 2.9 MB/s eta 0:00:01\n",
      "   --------------------------- ------------ 1.7/2.5 MB 2.9 MB/s eta 0:00:01\n",
      "   ------------------------------- -------- 2.0/2.5 MB 2.9 MB/s eta 0:00:01\n",
      "   ------------------------------- -------- 2.0/2.5 MB 2.9 MB/s eta 0:00:01\n",
      "   ------------------------------------- -- 2.3/2.5 MB 3.0 MB/s eta 0:00:01\n",
      "   ---------------------------------------  2.5/2.5 MB 3.0 MB/s eta 0:00:01\n",
      "   ---------------------------------------- 2.5/2.5 MB 3.0 MB/s eta 0:00:00\n",
      "Installing collected packages: Pillow\n",
      "  Attempting uninstall: Pillow\n",
      "    Found existing installation: pillow 10.4.0\n",
      "    Uninstalling pillow-10.4.0:\n",
      "      Successfully uninstalled pillow-10.4.0\n",
      "Successfully installed Pillow-9.4.0\n",
      "Note: you may need to restart the kernel to use updated packages.\n"
     ]
    }
   ],
   "source": [
    "#pip install Pillow==9.4.0"
   ]
  },
  {
   "cell_type": "code",
   "execution_count": 5,
   "id": "b9324dc3-d155-46a8-899e-51c8421596a3",
   "metadata": {},
   "outputs": [
    {
     "name": "stdout",
     "output_type": "stream",
     "text": [
      "Running on local URL:  http://127.0.0.1:7861\n",
      "Running on public URL: https://5f3410f26aa7e5c9d6.gradio.live\n",
      "\n",
      "This share link expires in 72 hours. For free permanent hosting and GPU upgrades, run `gradio deploy` from Terminal to deploy to Spaces (https://huggingface.co/spaces)\n"
     ]
    },
    {
     "data": {
      "text/html": [
       "<div><iframe src=\"https://5f3410f26aa7e5c9d6.gradio.live\" width=\"100%\" height=\"500\" allow=\"autoplay; camera; microphone; clipboard-read; clipboard-write;\" frameborder=\"0\" allowfullscreen></iframe></div>"
      ],
      "text/plain": [
       "<IPython.core.display.HTML object>"
      ]
     },
     "metadata": {},
     "output_type": "display_data"
    },
    {
     "data": {
      "text/plain": []
     },
     "execution_count": 5,
     "metadata": {},
     "output_type": "execute_result"
    }
   ],
   "source": [
    "import gradio as gr\n",
    "import stylecloud\n",
    "from PIL import Image\n",
    "import os \n",
    "\n",
    "# definig a function\n",
    "def create_stylecloud(file,language,icon):\n",
    "    text = file.decode(\"utf-8\")\n",
    "    output_file='stylecloud.png'\n",
    "    stylecloud.gen_stylecloud(\n",
    "        text = text,  \n",
    "        icon_name = icon, \n",
    "        size = 500,\n",
    "        output_name = output_file,\n",
    "    )\n",
    "    #file name of the generated word cloud image\n",
    "    return output_file\n",
    "\n",
    "'''\n",
    "    EXTRA PARAMETERS\n",
    "    size = 500,.\n",
    "    palette = 'cartocolors.qualitative.Bold_10',\n",
    "    gradient = \"horizontal\",\n",
    "    background_color = \"white\",\n",
    "    collocations = False\n",
    "'''\n",
    "\n",
    "# creating a gradio interface\n",
    "with gr.Blocks() as demo: \n",
    "    gr.Markdown('Word Cloud Generator')\n",
    "    \n",
    "    with gr.Row():\n",
    "        file_input = gr.File(label='Upload Text File', type='binary')\n",
    "        language = gr.Radio(choices=['TR','EN'],label='Language Selection',value='TR')\n",
    "        icon = gr.Dropdown(choices=[\"fas fa-star-and-crescent\", \"fas fa-trophy\", 'fas fa-laptop', \"fas fa-heart\", \"fas fa-car\",'fas fa-wifi'],\n",
    "                        label='Icon Selection',value=\"fas fa-heart\")\n",
    "        create_button = gr.Button('Generate Word Cloud')\n",
    "        output_file = gr.File(label='Download Word Cloud')\n",
    "        \n",
    "        # when clicked the button\n",
    "        create_button.click(\n",
    "        create_stylecloud,\n",
    "        inputs=[file_input,language,icon], \n",
    "        outputs = output_file \n",
    "        )\n",
    "\n",
    "demo.launch(share=True) # share = gives you a true public link. "
   ]
  },
  {
   "cell_type": "code",
   "execution_count": null,
   "id": "7082f631",
   "metadata": {},
   "outputs": [],
   "source": []
  }
 ],
 "metadata": {
  "kernelspec": {
   "display_name": "Python 3 (ipykernel)",
   "language": "python",
   "name": "python3"
  },
  "language_info": {
   "codemirror_mode": {
    "name": "ipython",
    "version": 3
   },
   "file_extension": ".py",
   "mimetype": "text/x-python",
   "name": "python",
   "nbconvert_exporter": "python",
   "pygments_lexer": "ipython3",
   "version": "3.11.9"
  }
 },
 "nbformat": 4,
 "nbformat_minor": 5
}
